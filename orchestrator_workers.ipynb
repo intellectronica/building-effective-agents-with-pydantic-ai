{
 "cells": [
  {
   "cell_type": "code",
   "execution_count": 5,
   "metadata": {},
   "outputs": [],
   "source": [
    "%pip install -r requirements.txt\n",
    "from IPython.display import clear_output ; clear_output()"
   ]
  },
  {
   "cell_type": "code",
   "execution_count": 6,
   "metadata": {},
   "outputs": [
    {
     "name": "stdout",
     "output_type": "stream",
     "text": [
      "Available AI models:\n",
      "['openai:gpt-4o',\n",
      " 'openai:gpt-4o-mini',\n",
      " 'gemini-1.5-pro',\n",
      " 'gemini-2.0-flash-exp',\n",
      " 'claude-3-5-haiku-latest',\n",
      " 'claude-3-5-sonnet-latest']\n",
      "Using AI model: gemini-2.0-flash-exp\n"
     ]
    }
   ],
   "source": [
    "from util import initialize\n",
    "AI_MODEL = initialize()\n",
    "\n",
    "import asyncio\n",
    "from typing import List, Dict\n",
    "from pprint import pprint, pformat\n",
    "\n",
    "from pydantic import BaseModel, Field\n",
    "from pydantic_ai import Agent"
   ]
  },
  {
   "cell_type": "code",
   "execution_count": 7,
   "metadata": {},
   "outputs": [],
   "source": [
    "class Task(BaseModel):\n",
    "    type: str = Field(..., description=(\n",
    "        'The type of task. '\n",
    "        'For example: \"formal\", \"conversational\", \"hybrid\", ...'))\n",
    "    description: str = Field(..., description='Clear description for executing this task.')\n",
    "\n",
    "\n",
    "class OrchestratorResponse(BaseModel):\n",
    "    analysis: str = Field(..., description=(\n",
    "        'Explain your understanding of the task and which variations would be valuable. '\n",
    "        'Focus on how each approach serves different aspects of the task.'\n",
    "    ))\n",
    "    tasks: List[Task] = Field(..., description=\"List of tasks\")\n",
    "\n",
    "\n",
    "async def orchestrate(task: str) -> Dict:\n",
    "    \"\"\"Process task by breaking it down and running subtasks in parallel.\"\"\"\n",
    "\n",
    "    orchestrator_response = await Agent(\n",
    "        AI_MODEL,\n",
    "        system_prompt='Analyze this task and break it down into 2-3 distinct approaches.',\n",
    "        result_type=OrchestratorResponse,\n",
    "    ).run(task)\n",
    "    \n",
    "    # Parse orchestrator response\n",
    "    analysis = orchestrator_response.data.analysis\n",
    "    tasks = orchestrator_response.data.tasks\n",
    "    \n",
    "    print(\"\\n=== ORCHESTRATOR OUTPUT ===\")\n",
    "    print(f\"\\nANALYSIS:\\n{analysis}\")\n",
    "    print(f\"\\nTASKS:\")\n",
    "    for task in tasks:\n",
    "        pprint(task.model_dump())\n",
    "    \n",
    "    # Step 2: Process all the tasks in parallel and collect results\n",
    "    worker_agent = Agent(AI_MODEL, system_prompt='Generate content based on the task specification.')\n",
    "    worker_responses = await asyncio.gather(*[\n",
    "        worker_agent.run(pformat({'original_task': task} | task_info.model_dump()))\n",
    "        for task_info in tasks\n",
    "    ])\n",
    "    worker_results = [\n",
    "        {\n",
    "            'type': task.type,\n",
    "            'description': task.description,\n",
    "            'result': response.data,\n",
    "        }\n",
    "        for task, response in zip(tasks, worker_responses)\n",
    "    ]\n",
    "\n",
    "    for worker_result in worker_results:\n",
    "        print(f\"\\n=== WORKER RESULT ({worker_result['type']}) ===\\n{worker_result['result']}\\n\")\n",
    "    \n",
    "    return {\n",
    "        \"analysis\": analysis,\n",
    "        \"worker_results\": worker_results,\n",
    "    }"
   ]
  },
  {
   "cell_type": "code",
   "execution_count": 8,
   "metadata": {},
   "outputs": [
    {
     "name": "stdout",
     "output_type": "stream",
     "text": [
      "\n",
      "=== ORCHESTRATOR OUTPUT ===\n",
      "\n",
      "ANALYSIS:\n",
      "The user wants to generate a product description for a new eco-friendly water bottle. Here are a couple of approaches:\\n\\n1.  **Focus on features and benefits:** This approach will highlight the practical aspects of the water bottle, such as its material, size, durability, and special features (e.g., leak-proof design, insulation). It will emphasize the benefits of these features for the user (e.g., keeps drinks cold, convenient to carry).\\n2.  **Emphasize the eco-friendly aspect:** This approach will focus on the sustainable materials and production methods used to create the water bottle. It will appeal to environmentally conscious customers and highlight the positive impact of choosing this product.\\n\\nBoth approaches can be used separately or in combination.\n",
      "\n",
      "TASKS:\n",
      "{'description': 'Write a product description focusing on the features and '\n",
      "                'benefits of the water bottle.',\n",
      " 'type': 'formal'}\n",
      "{'description': 'Write a product description emphasizing the eco-friendly '\n",
      "                'aspect of the water bottle.',\n",
      " 'type': 'formal'}\n",
      "\n",
      "=== WORKER RESULT (formal) ===\n",
      "Okay, here's a product description focusing on the features and benefits of a water bottle, while maintaining a formal tone:\n",
      "\n",
      "**Product Description**\n",
      "\n",
      "This meticulously crafted water bottle is designed to seamlessly integrate into your active lifestyle while promoting both personal well-being and environmental responsibility. Constructed from high-quality, durable materials, this bottle is engineered for long-lasting performance and reliability.\n",
      "\n",
      "**Key Features & Benefits:**\n",
      "\n",
      "*   **Leak-Proof Design:** The secure, tightly-sealed lid prevents unwanted spills and leaks, ensuring your beverages stay contained whether you're at the gym, in the office, or on the go. This dependable design eliminates the worry of accidental messes.\n",
      "\n",
      "*   **Durable Construction:** Manufactured from robust, impact-resistant materials, this bottle is built to withstand the rigors of daily use. Its sturdy design provides assurance against breakage, making it a long-term investment.\n",
      "\n",
      "*  **Optimal Capacity:** With a generous capacity, this bottle minimizes the need for frequent refills, allowing you to stay adequately hydrated throughout your day.  The well-balanced size offers a comfortable and convenient carry.\n",
      "\n",
      "*   **Ergonomic Design:** The sleek and ergonomic shape of the bottle fits comfortably in your hand and most cup holders. This promotes ease of use and makes hydration readily accessible.\n",
      "\n",
      "*   **Easy to Clean:** The bottle's wide-mouth opening allows for effortless cleaning and facilitates thorough drying. This feature contributes to a hygienic and convenient user experience.\n",
      "\n",
      "*  **Temperature Retention (Optional, Add if applicable):** If your bottle has temperature retention, include a line like: The advanced double-walled insulation maintains the temperature of your beverages for hours, keeping them cold or hot as required.\n",
      "\n",
      "*   **Health-Conscious Materials:** Constructed using BPA-free, food-grade materials, this bottle ensures that your water remains pure and untainted by harmful chemicals. This feature prioritizes your health and well-being.\n",
      "\n",
      "By choosing this water bottle, you are investing in a reliable, high-performing hydration solution that is both practical and health-conscious. Experience the convenience and dependability this bottle provides.\n",
      "\n",
      "\n",
      "\n",
      "=== WORKER RESULT (formal) ===\n",
      "Here's a product description emphasizing the eco-friendly aspect of a water bottle:\n",
      "\n",
      "**Product Description:**\n",
      "\n",
      "Make a conscious choice for your hydration and the planet with our eco-friendly water bottle. Crafted from sustainable materials, this reusable bottle offers a responsible alternative to single-use plastic, helping you reduce your environmental footprint.  \n",
      "\n",
      "Engineered for durability and longevity, it's designed to be your reliable companion on all your adventures, eliminating the need for disposable bottles and minimizing plastic waste. By choosing our water bottle, you're making a statement about your commitment to a healthier planet. Join us in creating a sustainable future, one sip at a time.\n",
      "\n",
      "\n"
     ]
    }
   ],
   "source": [
    "results = await orchestrate('Write a product description for a new eco-friendly water bottle.')"
   ]
  }
 ],
 "metadata": {
  "kernelspec": {
   "display_name": "Python 3",
   "language": "python",
   "name": "python3"
  },
  "language_info": {
   "codemirror_mode": {
    "name": "ipython",
    "version": 3
   },
   "file_extension": ".py",
   "mimetype": "text/x-python",
   "name": "python",
   "nbconvert_exporter": "python",
   "pygments_lexer": "ipython3",
   "version": "3.12.1"
  }
 },
 "nbformat": 4,
 "nbformat_minor": 2
}
